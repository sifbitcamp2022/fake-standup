{
 "cells": [
  {
   "cell_type": "code",
   "execution_count": 36,
   "metadata": {},
   "outputs": [],
   "source": [
    "from pygame import mixer\n",
    "import subprocess\n",
    "import time"
   ]
  },
  {
   "cell_type": "code",
   "execution_count": 40,
   "metadata": {},
   "outputs": [],
   "source": [
    "def play_music(count=1):\n",
    "    mixer.init(devicename='CABLE Input (VB-Audio Virtual Cable)')\n",
    "    mixer.music.load(\"C:\\\\Users\\\\iwann\\\\Downloads\\\\sixflags.mp3\")\n",
    "    mixer.music.play()\n",
    "    time.sleep(6)\n",
    "    if count == 10:\n",
    "        return\n",
    "    play_music(count + 1)"
   ]
  },
  {
   "cell_type": "code",
   "execution_count": 41,
   "metadata": {},
   "outputs": [
    {
     "ename": "KeyboardInterrupt",
     "evalue": "",
     "output_type": "error",
     "traceback": [
      "\u001b[1;31m---------------------------------------------------------------------------\u001b[0m",
      "\u001b[1;31mKeyboardInterrupt\u001b[0m                         Traceback (most recent call last)",
      "\u001b[1;32mc:\\git\\fake-standup\\video\\test.ipynb Cell 3'\u001b[0m in \u001b[0;36m<cell line: 1>\u001b[1;34m()\u001b[0m\n\u001b[1;32m----> <a href='vscode-notebook-cell:/c%3A/git/fake-standup/video/test.ipynb#ch0000008?line=0'>1</a>\u001b[0m play_music()\n",
      "\u001b[1;32mc:\\git\\fake-standup\\video\\test.ipynb Cell 2'\u001b[0m in \u001b[0;36mplay_music\u001b[1;34m(count)\u001b[0m\n\u001b[0;32m      <a href='vscode-notebook-cell:/c%3A/git/fake-standup/video/test.ipynb#ch0000007?line=5'>6</a>\u001b[0m \u001b[39mif\u001b[39;00m count \u001b[39m==\u001b[39m \u001b[39m10\u001b[39m:\n\u001b[0;32m      <a href='vscode-notebook-cell:/c%3A/git/fake-standup/video/test.ipynb#ch0000007?line=6'>7</a>\u001b[0m     \u001b[39mreturn\u001b[39;00m\n\u001b[1;32m----> <a href='vscode-notebook-cell:/c%3A/git/fake-standup/video/test.ipynb#ch0000007?line=7'>8</a>\u001b[0m play_music(count \u001b[39m+\u001b[39;49m \u001b[39m1\u001b[39;49m)\n",
      "\u001b[1;32mc:\\git\\fake-standup\\video\\test.ipynb Cell 2'\u001b[0m in \u001b[0;36mplay_music\u001b[1;34m(count)\u001b[0m\n\u001b[0;32m      <a href='vscode-notebook-cell:/c%3A/git/fake-standup/video/test.ipynb#ch0000007?line=5'>6</a>\u001b[0m \u001b[39mif\u001b[39;00m count \u001b[39m==\u001b[39m \u001b[39m10\u001b[39m:\n\u001b[0;32m      <a href='vscode-notebook-cell:/c%3A/git/fake-standup/video/test.ipynb#ch0000007?line=6'>7</a>\u001b[0m     \u001b[39mreturn\u001b[39;00m\n\u001b[1;32m----> <a href='vscode-notebook-cell:/c%3A/git/fake-standup/video/test.ipynb#ch0000007?line=7'>8</a>\u001b[0m play_music(count \u001b[39m+\u001b[39;49m \u001b[39m1\u001b[39;49m)\n",
      "\u001b[1;32mc:\\git\\fake-standup\\video\\test.ipynb Cell 2'\u001b[0m in \u001b[0;36mplay_music\u001b[1;34m(count)\u001b[0m\n\u001b[0;32m      <a href='vscode-notebook-cell:/c%3A/git/fake-standup/video/test.ipynb#ch0000007?line=2'>3</a>\u001b[0m mixer\u001b[39m.\u001b[39mmusic\u001b[39m.\u001b[39mload(\u001b[39m\"\u001b[39m\u001b[39mC:\u001b[39m\u001b[39m\\\\\u001b[39;00m\u001b[39mUsers\u001b[39m\u001b[39m\\\\\u001b[39;00m\u001b[39miwann\u001b[39m\u001b[39m\\\\\u001b[39;00m\u001b[39mDownloads\u001b[39m\u001b[39m\\\\\u001b[39;00m\u001b[39msixflags.mp3\u001b[39m\u001b[39m\"\u001b[39m)\n\u001b[0;32m      <a href='vscode-notebook-cell:/c%3A/git/fake-standup/video/test.ipynb#ch0000007?line=3'>4</a>\u001b[0m mixer\u001b[39m.\u001b[39mmusic\u001b[39m.\u001b[39mplay()\n\u001b[1;32m----> <a href='vscode-notebook-cell:/c%3A/git/fake-standup/video/test.ipynb#ch0000007?line=4'>5</a>\u001b[0m time\u001b[39m.\u001b[39;49msleep(\u001b[39m6\u001b[39;49m)\n\u001b[0;32m      <a href='vscode-notebook-cell:/c%3A/git/fake-standup/video/test.ipynb#ch0000007?line=5'>6</a>\u001b[0m \u001b[39mif\u001b[39;00m count \u001b[39m==\u001b[39m \u001b[39m10\u001b[39m:\n\u001b[0;32m      <a href='vscode-notebook-cell:/c%3A/git/fake-standup/video/test.ipynb#ch0000007?line=6'>7</a>\u001b[0m     \u001b[39mreturn\u001b[39;00m\n",
      "\u001b[1;31mKeyboardInterrupt\u001b[0m: "
     ]
    }
   ],
   "source": [
    "play_music()"
   ]
  },
  {
   "cell_type": "markdown",
   "metadata": {},
   "source": [
    "# Outputing to Video"
   ]
  },
  {
   "cell_type": "code",
   "execution_count": 29,
   "metadata": {},
   "outputs": [],
   "source": [
    "import pyvirtualcam\n",
    "import numpy as np"
   ]
  },
  {
   "cell_type": "code",
   "execution_count": null,
   "metadata": {},
   "outputs": [
    {
     "name": "stdout",
     "output_type": "stream",
     "text": [
      "Using virtual camera: OBS Virtual Camera\n"
     ]
    },
    {
     "ename": "KeyboardInterrupt",
     "evalue": "",
     "output_type": "error",
     "traceback": [
      "\u001b[1;31m---------------------------------------------------------------------------\u001b[0m",
      "\u001b[1;31mKeyboardInterrupt\u001b[0m                         Traceback (most recent call last)",
      "\u001b[1;32mc:\\git\\fake-standup\\video\\test.ipynb Cell 6'\u001b[0m in \u001b[0;36m<cell line: 1>\u001b[1;34m()\u001b[0m\n\u001b[0;32m      <a href='vscode-notebook-cell:/c%3A/git/fake-standup/video/test.ipynb#ch0000000?line=4'>5</a>\u001b[0m ran \u001b[39m=\u001b[39m (np\u001b[39m.\u001b[39mrandom\u001b[39m.\u001b[39mrandom((cam\u001b[39m.\u001b[39mheight, cam\u001b[39m.\u001b[39mwidth, \u001b[39m3\u001b[39m)) \u001b[39m*\u001b[39m \u001b[39m256\u001b[39m)\u001b[39m.\u001b[39mastype(np\u001b[39m.\u001b[39muint8)\n\u001b[0;32m      <a href='vscode-notebook-cell:/c%3A/git/fake-standup/video/test.ipynb#ch0000000?line=5'>6</a>\u001b[0m cam\u001b[39m.\u001b[39msend(ran)\n\u001b[1;32m----> <a href='vscode-notebook-cell:/c%3A/git/fake-standup/video/test.ipynb#ch0000000?line=6'>7</a>\u001b[0m cam\u001b[39m.\u001b[39;49msleep_until_next_frame()\n",
      "File \u001b[1;32m~\\Miniconda3\\envs\\py39\\lib\\site-packages\\pyvirtualcam\\camera.py:373\u001b[0m, in \u001b[0;36mCamera.sleep_until_next_frame\u001b[1;34m(self)\u001b[0m\n\u001b[0;32m    <a href='file:///c%3A/Users/iwann/Miniconda3/envs/py39/lib/site-packages/pyvirtualcam/camera.py?line=370'>371</a>\u001b[0m t_sleep \u001b[39m=\u001b[39m next_frame_t \u001b[39m-\u001b[39m current_t \u001b[39m-\u001b[39m \u001b[39mself\u001b[39m\u001b[39m.\u001b[39m_extra_time_per_frame\n\u001b[0;32m    <a href='file:///c%3A/Users/iwann/Miniconda3/envs/py39/lib/site-packages/pyvirtualcam/camera.py?line=371'>372</a>\u001b[0m \u001b[39mif\u001b[39;00m t_sleep \u001b[39m>\u001b[39m \u001b[39m0\u001b[39m:\n\u001b[1;32m--> <a href='file:///c%3A/Users/iwann/Miniconda3/envs/py39/lib/site-packages/pyvirtualcam/camera.py?line=372'>373</a>\u001b[0m     time\u001b[39m.\u001b[39;49msleep(t_sleep)\n",
      "\u001b[1;31mKeyboardInterrupt\u001b[0m: "
     ]
    }
   ],
   "source": [
    "with pyvirtualcam.Camera(width=1280, height=720, fps=5) as cam:\n",
    "    print(f'Using virtual camera: {cam.device}')\n",
    "    frame = np.zeros((cam.height, cam.width, 3), np.uint8)  # RGB\n",
    "    while True:\n",
    "        ran = (np.random.random((cam.height, cam.width, 3)) * 256).astype(np.uint8)\n",
    "        cam.send(ran)\n",
    "        cam.sleep_until_next_frame()"
   ]
  },
  {
   "cell_type": "code",
   "execution_count": 1,
   "metadata": {},
   "outputs": [],
   "source": [
    "import cv2"
   ]
  },
  {
   "cell_type": "code",
   "execution_count": null,
   "metadata": {},
   "outputs": [],
   "source": [
    "vidcap = cv2.VideoCapture('C:\\\\Users\\\\iwann\\\\Downloads\\\\sample-mp4-file.mp4')\n",
    "success,image = vidcap.read()"
   ]
  },
  {
   "cell_type": "code",
   "execution_count": 5,
   "metadata": {},
   "outputs": [
    {
     "data": {
      "text/plain": [
       "230400"
      ]
     },
     "execution_count": 5,
     "metadata": {},
     "output_type": "execute_result"
    }
   ],
   "source": [
    "vidcap = cv2.VideoCapture('C:\\\\Users\\\\iwann\\\\Downloads\\\\sample-mp4-file.mp4')\n",
    "success, image = vidcap.read()\n",
    "# while success:\n",
    "#     success, image = vidcap.read()\n",
    "#     print(success)"
   ]
  },
  {
   "cell_type": "code",
   "execution_count": 6,
   "metadata": {},
   "outputs": [
    {
     "data": {
      "text/plain": [
       "(240, 320, 3)"
      ]
     },
     "execution_count": 6,
     "metadata": {},
     "output_type": "execute_result"
    }
   ],
   "source": [
    "image.shape"
   ]
  },
  {
   "cell_type": "code",
   "execution_count": 1,
   "metadata": {},
   "outputs": [
    {
     "name": "stdout",
     "output_type": "stream",
     "text": [
      "MoviePy - Writing audio in test_audio.mp3\n"
     ]
    },
    {
     "name": "stderr",
     "output_type": "stream",
     "text": [
      "                                                                      "
     ]
    },
    {
     "name": "stdout",
     "output_type": "stream",
     "text": [
      "MoviePy - Done.\n"
     ]
    },
    {
     "name": "stderr",
     "output_type": "stream",
     "text": [
      "\r"
     ]
    }
   ],
   "source": [
    "import moviepy.editor as mp\n",
    "path = 'C:\\\\Users\\\\iwann\\\\Downloads\\\\sample-mp4-file.mp4'\n",
    "clip = mp.VideoFileClip(path)\n",
    "clip.audio.write_audiofile(\"test_audio.mp3\")"
   ]
  }
 ],
 "metadata": {
  "interpreter": {
   "hash": "edb76b7af9d49990f8b1e42cbfec51b45bbb9feccf72d3080470598131aee6bc"
  },
  "kernelspec": {
   "display_name": "Python 3.9.7 ('py39')",
   "language": "python",
   "name": "python3"
  },
  "language_info": {
   "codemirror_mode": {
    "name": "ipython",
    "version": 3
   },
   "file_extension": ".py",
   "mimetype": "text/x-python",
   "name": "python",
   "nbconvert_exporter": "python",
   "pygments_lexer": "ipython3",
   "version": "3.9.12"
  },
  "orig_nbformat": 4
 },
 "nbformat": 4,
 "nbformat_minor": 2
}
