{
 "cells": [
  {
   "cell_type": "code",
   "execution_count": 3,
   "metadata": {},
   "outputs": [
    {
     "ename": "RuntimeError",
     "evalue": "'v4l2loopback' backend: No v4l2 loopback device found at /dev/video[0-99]. Did you run 'modprobe v4l2loopback'? See also pyvirtualcam's documentation.",
     "output_type": "error",
     "traceback": [
      "\u001b[0;31m---------------------------------------------------------------------------\u001b[0m",
      "\u001b[0;31mRuntimeError\u001b[0m                              Traceback (most recent call last)",
      "\u001b[1;32m/root/fake-standup/video/test.ipynb Cell 2'\u001b[0m in \u001b[0;36m<cell line: 4>\u001b[0;34m()\u001b[0m\n\u001b[1;32m      <a href='vscode-notebook-cell://wsl%2Bquandryubuntu/root/fake-standup/video/test.ipynb#ch0000001vscode-remote?line=0'>1</a>\u001b[0m \u001b[39mimport\u001b[39;00m \u001b[39mpyvirtualcam\u001b[39;00m\n\u001b[1;32m      <a href='vscode-notebook-cell://wsl%2Bquandryubuntu/root/fake-standup/video/test.ipynb#ch0000001vscode-remote?line=1'>2</a>\u001b[0m \u001b[39mimport\u001b[39;00m \u001b[39mnumpy\u001b[39;00m \u001b[39mas\u001b[39;00m \u001b[39mnp\u001b[39;00m\n\u001b[0;32m----> <a href='vscode-notebook-cell://wsl%2Bquandryubuntu/root/fake-standup/video/test.ipynb#ch0000001vscode-remote?line=3'>4</a>\u001b[0m \u001b[39mwith\u001b[39;00m pyvirtualcam\u001b[39m.\u001b[39;49mCamera(width\u001b[39m=\u001b[39;49m\u001b[39m1280\u001b[39;49m, height\u001b[39m=\u001b[39;49m\u001b[39m720\u001b[39;49m, fps\u001b[39m=\u001b[39;49m\u001b[39m20\u001b[39;49m) \u001b[39mas\u001b[39;00m cam:\n\u001b[1;32m      <a href='vscode-notebook-cell://wsl%2Bquandryubuntu/root/fake-standup/video/test.ipynb#ch0000001vscode-remote?line=4'>5</a>\u001b[0m     \u001b[39mprint\u001b[39m(\u001b[39mf\u001b[39m\u001b[39m'\u001b[39m\u001b[39mUsing virtual camera: \u001b[39m\u001b[39m{\u001b[39;00mcam\u001b[39m.\u001b[39mdevice\u001b[39m}\u001b[39;00m\u001b[39m'\u001b[39m)\n\u001b[1;32m      <a href='vscode-notebook-cell://wsl%2Bquandryubuntu/root/fake-standup/video/test.ipynb#ch0000001vscode-remote?line=5'>6</a>\u001b[0m     frame \u001b[39m=\u001b[39m np\u001b[39m.\u001b[39mzeros((cam\u001b[39m.\u001b[39mheight, cam\u001b[39m.\u001b[39mwidth, \u001b[39m3\u001b[39m), np\u001b[39m.\u001b[39muint8)  \u001b[39m# RGB\u001b[39;00m\n",
      "File \u001b[0;32m~/.cache/pypoetry/virtualenvs/fake-standup-GYQ6Ccph-py3.9/lib/python3.9/site-packages/pyvirtualcam/camera.py:219\u001b[0m, in \u001b[0;36mCamera.__init__\u001b[0;34m(self, width, height, fps, fmt, device, backend, print_fps, **kw)\u001b[0m\n\u001b[1;32m    <a href='file:///root/.cache/pypoetry/virtualenvs/fake-standup-GYQ6Ccph-py3.9/lib/python3.9/site-packages/pyvirtualcam/camera.py?line=216'>217</a>\u001b[0m         \u001b[39mbreak\u001b[39;00m\n\u001b[1;32m    <a href='file:///root/.cache/pypoetry/virtualenvs/fake-standup-GYQ6Ccph-py3.9/lib/python3.9/site-packages/pyvirtualcam/camera.py?line=217'>218</a>\u001b[0m \u001b[39mif\u001b[39;00m \u001b[39mself\u001b[39m\u001b[39m.\u001b[39m_backend \u001b[39mis\u001b[39;00m \u001b[39mNone\u001b[39;00m:\n\u001b[0;32m--> <a href='file:///root/.cache/pypoetry/virtualenvs/fake-standup-GYQ6Ccph-py3.9/lib/python3.9/site-packages/pyvirtualcam/camera.py?line=218'>219</a>\u001b[0m     \u001b[39mraise\u001b[39;00m \u001b[39mRuntimeError\u001b[39;00m(\u001b[39m'\u001b[39m\u001b[39m\\n\u001b[39;00m\u001b[39m'\u001b[39m\u001b[39m.\u001b[39mjoin(errors))\n\u001b[1;32m    <a href='file:///root/.cache/pypoetry/virtualenvs/fake-standup-GYQ6Ccph-py3.9/lib/python3.9/site-packages/pyvirtualcam/camera.py?line=220'>221</a>\u001b[0m \u001b[39mself\u001b[39m\u001b[39m.\u001b[39m_width \u001b[39m=\u001b[39m width\n\u001b[1;32m    <a href='file:///root/.cache/pypoetry/virtualenvs/fake-standup-GYQ6Ccph-py3.9/lib/python3.9/site-packages/pyvirtualcam/camera.py?line=221'>222</a>\u001b[0m \u001b[39mself\u001b[39m\u001b[39m.\u001b[39m_height \u001b[39m=\u001b[39m height\n",
      "\u001b[0;31mRuntimeError\u001b[0m: 'v4l2loopback' backend: No v4l2 loopback device found at /dev/video[0-99]. Did you run 'modprobe v4l2loopback'? See also pyvirtualcam's documentation."
     ]
    }
   ],
   "source": [
    "import pyvirtualcam\n",
    "import numpy as np\n",
    "\n",
    "with pyvirtualcam.Camera(width=1280, height=720, fps=20) as cam:\n",
    "    print(f'Using virtual camera: {cam.device}')\n",
    "    frame = np.zeros((cam.height, cam.width, 3), np.uint8)  # RGB\n",
    "    while True:\n",
    "        frame[:] = cam.frames_sent % 255  # grayscale animation\n",
    "        cam.send(frame)\n",
    "        cam.sleep_until_next_frame()"
   ]
  }
 ],
 "metadata": {
  "interpreter": {
   "hash": "edb76b7af9d49990f8b1e42cbfec51b45bbb9feccf72d3080470598131aee6bc"
  },
  "kernelspec": {
   "display_name": "Python 3.9.7 ('py39')",
   "language": "python",
   "name": "python3"
  },
  "language_info": {
   "codemirror_mode": {
    "name": "ipython",
    "version": 3
   },
   "file_extension": ".py",
   "mimetype": "text/x-python",
   "name": "python",
   "nbconvert_exporter": "python",
   "pygments_lexer": "ipython3",
   "version": "3.9.7"
  },
  "orig_nbformat": 4
 },
 "nbformat": 4,
 "nbformat_minor": 2
}
