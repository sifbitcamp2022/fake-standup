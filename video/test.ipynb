{
 "cells": [
  {
   "cell_type": "code",
   "execution_count": 3,
   "metadata": {},
   "outputs": [],
   "source": []
  },
  {
   "cell_type": "code",
   "execution_count": null,
   "metadata": {},
   "outputs": [],
   "source": []
  },
  {
   "cell_type": "markdown",
   "metadata": {},
   "source": [
    "# Outputing to Video"
   ]
  },
  {
   "cell_type": "code",
   "execution_count": null,
   "metadata": {},
   "outputs": [],
   "source": [
    "import pyvirtualcam\n",
    "import numpy as np"
   ]
  },
  {
   "cell_type": "code",
   "execution_count": 17,
   "metadata": {},
   "outputs": [
    {
     "name": "stdout",
     "output_type": "stream",
     "text": [
      "Using virtual camera: OBS Virtual Camera\n"
     ]
    },
    {
     "ename": "KeyboardInterrupt",
     "evalue": "",
     "output_type": "error",
     "traceback": [
      "\u001b[1;31m---------------------------------------------------------------------------\u001b[0m",
      "\u001b[1;31mKeyboardInterrupt\u001b[0m                         Traceback (most recent call last)",
      "\u001b[1;32mc:\\git\\fake-standup\\video\\test.ipynb Cell 2'\u001b[0m in \u001b[0;36m<cell line: 1>\u001b[1;34m()\u001b[0m\n\u001b[0;32m      <a href='vscode-notebook-cell:/c%3A/git/fake-standup/video/test.ipynb#ch0000000?line=4'>5</a>\u001b[0m ran \u001b[39m=\u001b[39m (np\u001b[39m.\u001b[39mrandom\u001b[39m.\u001b[39mrandom((cam\u001b[39m.\u001b[39mheight, cam\u001b[39m.\u001b[39mwidth, \u001b[39m3\u001b[39m)) \u001b[39m*\u001b[39m \u001b[39m256\u001b[39m)\u001b[39m.\u001b[39mastype(np\u001b[39m.\u001b[39muint8)\n\u001b[0;32m      <a href='vscode-notebook-cell:/c%3A/git/fake-standup/video/test.ipynb#ch0000000?line=5'>6</a>\u001b[0m cam\u001b[39m.\u001b[39msend(ran)\n\u001b[1;32m----> <a href='vscode-notebook-cell:/c%3A/git/fake-standup/video/test.ipynb#ch0000000?line=6'>7</a>\u001b[0m cam\u001b[39m.\u001b[39;49msleep_until_next_frame()\n",
      "File \u001b[1;32m~\\Miniconda3\\envs\\py39\\lib\\site-packages\\pyvirtualcam\\camera.py:373\u001b[0m, in \u001b[0;36mCamera.sleep_until_next_frame\u001b[1;34m(self)\u001b[0m\n\u001b[0;32m    <a href='file:///c%3A/Users/iwann/Miniconda3/envs/py39/lib/site-packages/pyvirtualcam/camera.py?line=370'>371</a>\u001b[0m t_sleep \u001b[39m=\u001b[39m next_frame_t \u001b[39m-\u001b[39m current_t \u001b[39m-\u001b[39m \u001b[39mself\u001b[39m\u001b[39m.\u001b[39m_extra_time_per_frame\n\u001b[0;32m    <a href='file:///c%3A/Users/iwann/Miniconda3/envs/py39/lib/site-packages/pyvirtualcam/camera.py?line=371'>372</a>\u001b[0m \u001b[39mif\u001b[39;00m t_sleep \u001b[39m>\u001b[39m \u001b[39m0\u001b[39m:\n\u001b[1;32m--> <a href='file:///c%3A/Users/iwann/Miniconda3/envs/py39/lib/site-packages/pyvirtualcam/camera.py?line=372'>373</a>\u001b[0m     time\u001b[39m.\u001b[39;49msleep(t_sleep)\n",
      "\u001b[1;31mKeyboardInterrupt\u001b[0m: "
     ]
    }
   ],
   "source": [
    "with pyvirtualcam.Camera(width=1280, height=720, fps=5) as cam:\n",
    "    print(f'Using virtual camera: {cam.device}')\n",
    "    frame = np.zeros((cam.height, cam.width, 3), np.uint8)  # RGB\n",
    "    while True:\n",
    "        ran = (np.random.random((cam.height, cam.width, 3)) * 256).astype(np.uint8)\n",
    "        cam.send(ran)\n",
    "        cam.sleep_until_next_frame()"
   ]
  }
 ],
 "metadata": {
  "interpreter": {
   "hash": "edb76b7af9d49990f8b1e42cbfec51b45bbb9feccf72d3080470598131aee6bc"
  },
  "kernelspec": {
   "display_name": "Python 3.9.7 ('py39')",
   "language": "python",
   "name": "python3"
  },
  "language_info": {
   "codemirror_mode": {
    "name": "ipython",
    "version": 3
   },
   "file_extension": ".py",
   "mimetype": "text/x-python",
   "name": "python",
   "nbconvert_exporter": "python",
   "pygments_lexer": "ipython3",
   "version": "3.9.12"
  },
  "orig_nbformat": 4
 },
 "nbformat": 4,
 "nbformat_minor": 2
}
