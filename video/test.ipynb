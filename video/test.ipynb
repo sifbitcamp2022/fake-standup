{
 "cells": [
  {
   "cell_type": "code",
   "execution_count": 1,
   "metadata": {},
   "outputs": [],
   "source": [
    "import time\n",
    "import pyfakewebcam\n",
    "import numpy as np"
   ]
  },
  {
   "cell_type": "code",
   "execution_count": 2,
   "metadata": {},
   "outputs": [
    {
     "name": "stderr",
     "output_type": "stream",
     "text": [
      "\n",
      "--- Make sure the v4l2loopback kernel module is loaded ---\n",
      "sudo modprobe v4l2loopback devices=1\n",
      "\n"
     ]
    },
    {
     "ename": "FileNotFoundError",
     "evalue": "device does not exist: /dev/video1",
     "output_type": "error",
     "traceback": [
      "\u001b[0;31m---------------------------------------------------------------------------\u001b[0m",
      "\u001b[0;31mFileNotFoundError\u001b[0m                         Traceback (most recent call last)",
      "\u001b[1;32m/home/peter/fake-standup/video/test.ipynb Cell 2'\u001b[0m in \u001b[0;36m<module>\u001b[0;34m\u001b[0m\n\u001b[1;32m      <a href='vscode-notebook-cell://ssh-remote%2Bryansdowning.ddns.net/home/peter/fake-standup/video/test.ipynb#ch0000001vscode-remote?line=3'>4</a>\u001b[0m red \u001b[39m=\u001b[39m np\u001b[39m.\u001b[39mzeros((\u001b[39m480\u001b[39m,\u001b[39m640\u001b[39m,\u001b[39m3\u001b[39m), dtype\u001b[39m=\u001b[39mnp\u001b[39m.\u001b[39muint8)\n\u001b[1;32m      <a href='vscode-notebook-cell://ssh-remote%2Bryansdowning.ddns.net/home/peter/fake-standup/video/test.ipynb#ch0000001vscode-remote?line=4'>5</a>\u001b[0m red[:,:,\u001b[39m0\u001b[39m] \u001b[39m=\u001b[39m \u001b[39m255\u001b[39m\n\u001b[0;32m----> <a href='vscode-notebook-cell://ssh-remote%2Bryansdowning.ddns.net/home/peter/fake-standup/video/test.ipynb#ch0000001vscode-remote?line=6'>7</a>\u001b[0m camera \u001b[39m=\u001b[39m pyfakewebcam\u001b[39m.\u001b[39;49mFakeWebcam(\u001b[39m'\u001b[39;49m\u001b[39m/dev/video1\u001b[39;49m\u001b[39m'\u001b[39;49m, \u001b[39m640\u001b[39;49m, \u001b[39m480\u001b[39;49m)\n\u001b[1;32m      <a href='vscode-notebook-cell://ssh-remote%2Bryansdowning.ddns.net/home/peter/fake-standup/video/test.ipynb#ch0000001vscode-remote?line=8'>9</a>\u001b[0m \u001b[39mwhile\u001b[39;00m \u001b[39mTrue\u001b[39;00m:\n\u001b[1;32m     <a href='vscode-notebook-cell://ssh-remote%2Bryansdowning.ddns.net/home/peter/fake-standup/video/test.ipynb#ch0000001vscode-remote?line=10'>11</a>\u001b[0m     camera\u001b[39m.\u001b[39mschedule_frame(red)\n",
      "File \u001b[0;32m~/miniconda3/envs/py39/lib/python3.9/site-packages/pyfakewebcam/pyfakewebcam.py:31\u001b[0m, in \u001b[0;36mFakeWebcam.__init__\u001b[0;34m(self, video_device, width, height, channels, input_pixfmt)\u001b[0m\n\u001b[1;32m     <a href='file:///home/peter/miniconda3/envs/py39/lib/python3.9/site-packages/pyfakewebcam/pyfakewebcam.py?line=28'>29</a>\u001b[0m     sys\u001b[39m.\u001b[39mstderr\u001b[39m.\u001b[39mwrite(\u001b[39m'\u001b[39m\u001b[39m\\n\u001b[39;00m\u001b[39m--- Make sure the v4l2loopback kernel module is loaded ---\u001b[39m\u001b[39m\\n\u001b[39;00m\u001b[39m'\u001b[39m)\n\u001b[1;32m     <a href='file:///home/peter/miniconda3/envs/py39/lib/python3.9/site-packages/pyfakewebcam/pyfakewebcam.py?line=29'>30</a>\u001b[0m     sys\u001b[39m.\u001b[39mstderr\u001b[39m.\u001b[39mwrite(\u001b[39m'\u001b[39m\u001b[39msudo modprobe v4l2loopback devices=1\u001b[39m\u001b[39m\\n\u001b[39;00m\u001b[39m\\n\u001b[39;00m\u001b[39m'\u001b[39m)\n\u001b[0;32m---> <a href='file:///home/peter/miniconda3/envs/py39/lib/python3.9/site-packages/pyfakewebcam/pyfakewebcam.py?line=30'>31</a>\u001b[0m     \u001b[39mraise\u001b[39;00m \u001b[39mFileNotFoundError\u001b[39;00m(\u001b[39m'\u001b[39m\u001b[39mdevice does not exist: \u001b[39m\u001b[39m{}\u001b[39;00m\u001b[39m'\u001b[39m\u001b[39m.\u001b[39mformat(video_device))\n\u001b[1;32m     <a href='file:///home/peter/miniconda3/envs/py39/lib/python3.9/site-packages/pyfakewebcam/pyfakewebcam.py?line=32'>33</a>\u001b[0m \u001b[39mself\u001b[39m\u001b[39m.\u001b[39m_channels \u001b[39m=\u001b[39m channels\n\u001b[1;32m     <a href='file:///home/peter/miniconda3/envs/py39/lib/python3.9/site-packages/pyfakewebcam/pyfakewebcam.py?line=33'>34</a>\u001b[0m \u001b[39mself\u001b[39m\u001b[39m.\u001b[39m_video_device \u001b[39m=\u001b[39m os\u001b[39m.\u001b[39mopen(video_device, os\u001b[39m.\u001b[39mO_WRONLY \u001b[39m|\u001b[39m os\u001b[39m.\u001b[39mO_SYNC)\n",
      "\u001b[0;31mFileNotFoundError\u001b[0m: device does not exist: /dev/video1"
     ]
    }
   ],
   "source": [
    "blue = np.zeros((480,640,3), dtype=np.uint8)\n",
    "blue[:,:,2] = 255\n",
    "\n",
    "red = np.zeros((480,640,3), dtype=np.uint8)\n",
    "red[:,:,0] = 255\n",
    "\n",
    "camera = pyfakewebcam.FakeWebcam('/dev/video1', 640, 480)\n",
    "\n",
    "while True:\n",
    "\n",
    "    camera.schedule_frame(red)\n",
    "    time.sleep(1/30.0)\n",
    "\n",
    "    camera.schedule_frame(blue)\n",
    "    time.sleep(1/30.0)"
   ]
  }
 ],
 "metadata": {
  "interpreter": {
   "hash": "edb76b7af9d49990f8b1e42cbfec51b45bbb9feccf72d3080470598131aee6bc"
  },
  "kernelspec": {
   "display_name": "Python 3.9.7 ('py39')",
   "language": "python",
   "name": "python3"
  },
  "language_info": {
   "codemirror_mode": {
    "name": "ipython",
    "version": 3
   },
   "file_extension": ".py",
   "mimetype": "text/x-python",
   "name": "python",
   "nbconvert_exporter": "python",
   "pygments_lexer": "ipython3",
   "version": "3.9.7"
  },
  "orig_nbformat": 4
 },
 "nbformat": 4,
 "nbformat_minor": 2
}
