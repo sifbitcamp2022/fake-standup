{
 "cells": [
  {
   "cell_type": "code",
   "execution_count": 10,
   "metadata": {},
   "outputs": [],
   "source": [
    "from pygame import mixer\n",
    "import subprocess\n",
    "import time"
   ]
  },
  {
   "cell_type": "code",
   "execution_count": 19,
   "metadata": {},
   "outputs": [],
   "source": [
    "def play_music(count=1):\n",
    "    mixer.init(devicename='CABLE Input (VB-Audio Virtual Cable)')\n",
    "    mixer.music.load(\"C:\\\\Users\\\\iwann\\\\Downloads\\\\sixflags.mp3\")\n",
    "    mixer.music.play()"
   ]
  },
  {
   "cell_type": "code",
   "execution_count": 20,
   "metadata": {},
   "outputs": [],
   "source": [
    "play_music()"
   ]
  },
  {
   "cell_type": "code",
   "execution_count": 18,
   "metadata": {},
   "outputs": [
    {
     "data": {
      "text/plain": [
       "['Speakers/Headphones (Realtek(R) Audio)',\n",
       " 'CABLE Input (VB-Audio Virtual Cable)']"
      ]
     },
     "execution_count": 18,
     "metadata": {},
     "output_type": "execute_result"
    }
   ],
   "source": [
    "import pygame._sdl2 as sdl2\n",
    "sdl2.audio.get_audio_device_names(False)"
   ]
  },
  {
   "cell_type": "code",
   "execution_count": 4,
   "metadata": {},
   "outputs": [],
   "source": [
    "import numpy as np\n",
    "import ffmpeg\n",
    "out, _ = (\n",
    "    ffmpeg\n",
    "    .input('../result_voice.mp4')\n",
    "    .output('pipe:', format='rawvideo', pix_fmt='rgb24', vframes=900)\n",
    "    .run(capture_stdout=True)\n",
    ")\n",
    "video = (\n",
    "    np\n",
    "    .frombuffer(out, np.uint8)\n",
    "    .reshape([-1, 720, 1280, 3])\n",
    ")"
   ]
  },
  {
   "cell_type": "code",
   "execution_count": 1,
   "metadata": {},
   "outputs": [
    {
     "name": "stdout",
     "output_type": "stream",
     "text": [
      "pygame 2.1.2 (SDL 2.0.18, Python 3.9.4)\n",
      "Hello from the pygame community. https://www.pygame.org/contribute.html\n",
      "result_audio.mp3\n",
      "2.1.2\n"
     ]
    }
   ],
   "source": [
    "from video.fake_error_connection import play_music\n",
    "play_music(\"result_audio.mp3\")"
   ]
  },
  {
   "cell_type": "code",
   "execution_count": 2,
   "metadata": {},
   "outputs": [
    {
     "data": {
      "text/plain": [
       "'2.1.2'"
      ]
     },
     "execution_count": 2,
     "metadata": {},
     "output_type": "execute_result"
    }
   ],
   "source": [
    "import pygame\n",
    "pygame.__version__"
   ]
  },
  {
   "cell_type": "code",
   "execution_count": 5,
   "metadata": {},
   "outputs": [
    {
     "name": "stdout",
     "output_type": "stream",
     "text": [
      "../result_audio.mp3\n"
     ]
    }
   ],
   "source": []
  },
  {
   "cell_type": "code",
   "execution_count": null,
   "metadata": {},
   "outputs": [],
   "source": [
    "frames = [generate_rgb_noise((720, 1280, 3)) for i in range(90)]"
   ]
  },
  {
   "cell_type": "code",
   "execution_count": 4,
   "metadata": {},
   "outputs": [],
   "source": [
    "q2 = Queue()\n",
    "for frame in frames:\n",
    "    q2.put(frame)\n",
    "q2.put(\"end\")\n",
    "play_video(q2)"
   ]
  },
  {
   "cell_type": "code",
   "execution_count": null,
   "metadata": {},
   "outputs": [],
   "source": [
    "import cv2\n",
    "\n",
    "cap = cv2.VideoCapture(\"video.mp4\")\n",
    "length = int(cap.get(cv2.CAP_PROP_FRAME_COUNT))"
   ]
  },
  {
   "cell_type": "code",
   "execution_count": null,
   "metadata": {},
   "outputs": [],
   "source": []
  },
  {
   "cell_type": "code",
   "execution_count": 10,
   "metadata": {},
   "outputs": [
    {
     "ename": "ImportError",
     "evalue": "cannot import name 'input' from 'ffmpeg' (C:\\Users\\iwann\\Miniconda3\\envs\\bitcamp\\lib\\site-packages\\ffmpeg\\__init__.py)",
     "output_type": "error",
     "traceback": [
      "\u001b[1;31m---------------------------------------------------------------------------\u001b[0m",
      "\u001b[1;31mImportError\u001b[0m                               Traceback (most recent call last)",
      "\u001b[1;32mc:\\git\\fake-standup\\video\\test.ipynb Cell 14'\u001b[0m in \u001b[0;36m<cell line: 1>\u001b[1;34m()\u001b[0m\n\u001b[1;32m----> <a href='vscode-notebook-cell:/c%3A/git/fake-standup/video/test.ipynb#ch0000014?line=0'>1</a>\u001b[0m \u001b[39mfrom\u001b[39;00m \u001b[39mffmpeg\u001b[39;00m \u001b[39mimport\u001b[39;00m \u001b[39minput\u001b[39m\n",
      "\u001b[1;31mImportError\u001b[0m: cannot import name 'input' from 'ffmpeg' (C:\\Users\\iwann\\Miniconda3\\envs\\bitcamp\\lib\\site-packages\\ffmpeg\\__init__.py)"
     ]
    }
   ],
   "source": [
    "from ffmpeg import input"
   ]
  }
 ],
 "metadata": {
  "interpreter": {
   "hash": "edb76b7af9d49990f8b1e42cbfec51b45bbb9feccf72d3080470598131aee6bc"
  },
  "kernelspec": {
   "display_name": "Python 3.9.7 ('py39')",
   "language": "python",
   "name": "python3"
  },
  "language_info": {
   "codemirror_mode": {
    "name": "ipython",
    "version": 3
   },
   "file_extension": ".py",
   "mimetype": "text/x-python",
   "name": "python",
   "nbconvert_exporter": "python",
   "pygments_lexer": "ipython3",
   "version": "3.9.4"
  },
  "orig_nbformat": 4
 },
 "nbformat": 4,
 "nbformat_minor": 2
}
